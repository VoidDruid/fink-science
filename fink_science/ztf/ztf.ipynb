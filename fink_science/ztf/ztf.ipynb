{
 "cells": [
  {
   "cell_type": "markdown",
   "metadata": {},
   "source": [
    "# Science modules in Fink: an example\n",
    "\n",
    "A science module contains necessary routines and classes to process the data, and add values. Typically, you will receive alerts in input, and output the same alerts with additional information. Input alert information contains position, flux, telescope properties, ... You can find what information is available in an alert [here](https://zwickytransientfacility.github.io/ztf-avro-alert/), or check the current [Fink added values](https://fink-broker.readthedocs.io/en/latest/science/added_values/).\n",
    "\n",
    "In this simple example, we explore a simple science module that takes magnitudes contained in each alert, and computes the change in magnitude between the last two measurements."
   ]
  },
  {
   "cell_type": "code",
   "execution_count": 2,
   "metadata": {},
   "outputs": [],
   "source": [
    "# utility from fink-science\n",
    "from fink_science.utilities import concat_col"
   ]
  },
  {
   "cell_type": "markdown",
   "metadata": {},
   "source": [
    "## Loading the data\n",
    "\n",
    "Fink receives data as Avro. However, the internal processing makes use of Parquet files. We provide here alert data as Parquet: it contains original alert data from ZTF and some added values from Fink:"
   ]
  },
  {
   "cell_type": "code",
   "execution_count": 3,
   "metadata": {},
   "outputs": [
    {
     "name": "stderr",
     "output_type": "stream",
     "text": [
      "22/01/21 13:52:51 WARN Utils: Truncated the string representation of a plan since it was too large. This behavior can be adjusted by setting 'spark.debug.maxToStringFields' in SparkEnv.conf.\n"
     ]
    }
   ],
   "source": [
    "# Load the data into a Spark DataFrame\n",
    "df = spark.read.format('parquet').load('sample.parquet')"
   ]
  },
  {
   "cell_type": "markdown",
   "metadata": {},
   "source": [
    "You can check what's in the data"
   ]
  },
  {
   "cell_type": "code",
   "execution_count": 4,
   "metadata": {},
   "outputs": [
    {
     "name": "stdout",
     "output_type": "stream",
     "text": [
      "root\n",
      " |-- candid: long (nullable = true)\n",
      " |-- schemavsn: string (nullable = true)\n",
      " |-- publisher: string (nullable = true)\n",
      " |-- objectId: string (nullable = true)\n",
      " |-- candidate: struct (nullable = true)\n",
      " |    |-- jd: double (nullable = true)\n",
      " |    |-- fid: integer (nullable = true)\n",
      " |    |-- pid: long (nullable = true)\n",
      " |    |-- diffmaglim: float (nullable = true)\n",
      " |    |-- pdiffimfilename: string (nullable = true)\n",
      " |    |-- programpi: string (nullable = true)\n",
      " |    |-- programid: integer (nullable = true)\n",
      " |    |-- candid: long (nullable = true)\n",
      " |    |-- isdiffpos: string (nullable = true)\n",
      " |    |-- tblid: long (nullable = true)\n",
      " |    |-- nid: integer (nullable = true)\n",
      " |    |-- rcid: integer (nullable = true)\n",
      " |    |-- field: integer (nullable = true)\n",
      " |    |-- xpos: float (nullable = true)\n",
      " |    |-- ypos: float (nullable = true)\n",
      " |    |-- ra: double (nullable = true)\n",
      " |    |-- dec: double (nullable = true)\n",
      " |    |-- magpsf: float (nullable = true)\n",
      " |    |-- sigmapsf: float (nullable = true)\n",
      " |    |-- chipsf: float (nullable = true)\n",
      " |    |-- magap: float (nullable = true)\n",
      " |    |-- sigmagap: float (nullable = true)\n",
      " |    |-- distnr: float (nullable = true)\n",
      " |    |-- magnr: float (nullable = true)\n",
      " |    |-- sigmagnr: float (nullable = true)\n",
      " |    |-- chinr: float (nullable = true)\n",
      " |    |-- sharpnr: float (nullable = true)\n",
      " |    |-- sky: float (nullable = true)\n",
      " |    |-- magdiff: float (nullable = true)\n",
      " |    |-- fwhm: float (nullable = true)\n",
      " |    |-- classtar: float (nullable = true)\n",
      " |    |-- mindtoedge: float (nullable = true)\n",
      " |    |-- magfromlim: float (nullable = true)\n",
      " |    |-- seeratio: float (nullable = true)\n",
      " |    |-- aimage: float (nullable = true)\n",
      " |    |-- bimage: float (nullable = true)\n",
      " |    |-- aimagerat: float (nullable = true)\n",
      " |    |-- bimagerat: float (nullable = true)\n",
      " |    |-- elong: float (nullable = true)\n",
      " |    |-- nneg: integer (nullable = true)\n",
      " |    |-- nbad: integer (nullable = true)\n",
      " |    |-- rb: float (nullable = true)\n",
      " |    |-- ssdistnr: float (nullable = true)\n",
      " |    |-- ssmagnr: float (nullable = true)\n",
      " |    |-- ssnamenr: string (nullable = true)\n",
      " |    |-- sumrat: float (nullable = true)\n",
      " |    |-- magapbig: float (nullable = true)\n",
      " |    |-- sigmagapbig: float (nullable = true)\n",
      " |    |-- ranr: double (nullable = true)\n",
      " |    |-- decnr: double (nullable = true)\n",
      " |    |-- sgmag1: float (nullable = true)\n",
      " |    |-- srmag1: float (nullable = true)\n",
      " |    |-- simag1: float (nullable = true)\n",
      " |    |-- szmag1: float (nullable = true)\n",
      " |    |-- sgscore1: float (nullable = true)\n",
      " |    |-- distpsnr1: float (nullable = true)\n",
      " |    |-- ndethist: integer (nullable = true)\n",
      " |    |-- ncovhist: integer (nullable = true)\n",
      " |    |-- jdstarthist: double (nullable = true)\n",
      " |    |-- jdendhist: double (nullable = true)\n",
      " |    |-- scorr: double (nullable = true)\n",
      " |    |-- tooflag: integer (nullable = true)\n",
      " |    |-- objectidps1: long (nullable = true)\n",
      " |    |-- objectidps2: long (nullable = true)\n",
      " |    |-- sgmag2: float (nullable = true)\n",
      " |    |-- srmag2: float (nullable = true)\n",
      " |    |-- simag2: float (nullable = true)\n",
      " |    |-- szmag2: float (nullable = true)\n",
      " |    |-- sgscore2: float (nullable = true)\n",
      " |    |-- distpsnr2: float (nullable = true)\n",
      " |    |-- objectidps3: long (nullable = true)\n",
      " |    |-- sgmag3: float (nullable = true)\n",
      " |    |-- srmag3: float (nullable = true)\n",
      " |    |-- simag3: float (nullable = true)\n",
      " |    |-- szmag3: float (nullable = true)\n",
      " |    |-- sgscore3: float (nullable = true)\n",
      " |    |-- distpsnr3: float (nullable = true)\n",
      " |    |-- nmtchps: integer (nullable = true)\n",
      " |    |-- rfid: long (nullable = true)\n",
      " |    |-- jdstartref: double (nullable = true)\n",
      " |    |-- jdendref: double (nullable = true)\n",
      " |    |-- nframesref: integer (nullable = true)\n",
      " |    |-- rbversion: string (nullable = true)\n",
      " |    |-- dsnrms: float (nullable = true)\n",
      " |    |-- ssnrms: float (nullable = true)\n",
      " |    |-- dsdiff: float (nullable = true)\n",
      " |    |-- magzpsci: float (nullable = true)\n",
      " |    |-- magzpsciunc: float (nullable = true)\n",
      " |    |-- magzpscirms: float (nullable = true)\n",
      " |    |-- nmatches: integer (nullable = true)\n",
      " |    |-- clrcoeff: float (nullable = true)\n",
      " |    |-- clrcounc: float (nullable = true)\n",
      " |    |-- zpclrcov: float (nullable = true)\n",
      " |    |-- zpmed: float (nullable = true)\n",
      " |    |-- clrmed: float (nullable = true)\n",
      " |    |-- clrrms: float (nullable = true)\n",
      " |    |-- neargaia: float (nullable = true)\n",
      " |    |-- neargaiabright: float (nullable = true)\n",
      " |    |-- maggaia: float (nullable = true)\n",
      " |    |-- maggaiabright: float (nullable = true)\n",
      " |    |-- exptime: float (nullable = true)\n",
      " |    |-- drb: float (nullable = true)\n",
      " |    |-- drbversion: string (nullable = true)\n",
      " |-- prv_candidates: array (nullable = true)\n",
      " |    |-- element: struct (containsNull = true)\n",
      " |    |    |-- jd: double (nullable = true)\n",
      " |    |    |-- fid: integer (nullable = true)\n",
      " |    |    |-- pid: long (nullable = true)\n",
      " |    |    |-- diffmaglim: float (nullable = true)\n",
      " |    |    |-- pdiffimfilename: string (nullable = true)\n",
      " |    |    |-- programpi: string (nullable = true)\n",
      " |    |    |-- programid: integer (nullable = true)\n",
      " |    |    |-- candid: long (nullable = true)\n",
      " |    |    |-- isdiffpos: string (nullable = true)\n",
      " |    |    |-- tblid: long (nullable = true)\n",
      " |    |    |-- nid: integer (nullable = true)\n",
      " |    |    |-- rcid: integer (nullable = true)\n",
      " |    |    |-- field: integer (nullable = true)\n",
      " |    |    |-- xpos: float (nullable = true)\n",
      " |    |    |-- ypos: float (nullable = true)\n",
      " |    |    |-- ra: double (nullable = true)\n",
      " |    |    |-- dec: double (nullable = true)\n",
      " |    |    |-- magpsf: float (nullable = true)\n",
      " |    |    |-- sigmapsf: float (nullable = true)\n",
      " |    |    |-- chipsf: float (nullable = true)\n",
      " |    |    |-- magap: float (nullable = true)\n",
      " |    |    |-- sigmagap: float (nullable = true)\n",
      " |    |    |-- distnr: float (nullable = true)\n",
      " |    |    |-- magnr: float (nullable = true)\n",
      " |    |    |-- sigmagnr: float (nullable = true)\n",
      " |    |    |-- chinr: float (nullable = true)\n",
      " |    |    |-- sharpnr: float (nullable = true)\n",
      " |    |    |-- sky: float (nullable = true)\n",
      " |    |    |-- magdiff: float (nullable = true)\n",
      " |    |    |-- fwhm: float (nullable = true)\n",
      " |    |    |-- classtar: float (nullable = true)\n",
      " |    |    |-- mindtoedge: float (nullable = true)\n",
      " |    |    |-- magfromlim: float (nullable = true)\n",
      " |    |    |-- seeratio: float (nullable = true)\n",
      " |    |    |-- aimage: float (nullable = true)\n",
      " |    |    |-- bimage: float (nullable = true)\n",
      " |    |    |-- aimagerat: float (nullable = true)\n",
      " |    |    |-- bimagerat: float (nullable = true)\n",
      " |    |    |-- elong: float (nullable = true)\n",
      " |    |    |-- nneg: integer (nullable = true)\n",
      " |    |    |-- nbad: integer (nullable = true)\n",
      " |    |    |-- rb: float (nullable = true)\n",
      " |    |    |-- ssdistnr: float (nullable = true)\n",
      " |    |    |-- ssmagnr: float (nullable = true)\n",
      " |    |    |-- ssnamenr: string (nullable = true)\n",
      " |    |    |-- sumrat: float (nullable = true)\n",
      " |    |    |-- magapbig: float (nullable = true)\n",
      " |    |    |-- sigmagapbig: float (nullable = true)\n",
      " |    |    |-- ranr: double (nullable = true)\n",
      " |    |    |-- decnr: double (nullable = true)\n",
      " |    |    |-- scorr: double (nullable = true)\n",
      " |    |    |-- magzpsci: float (nullable = true)\n",
      " |    |    |-- magzpsciunc: float (nullable = true)\n",
      " |    |    |-- magzpscirms: float (nullable = true)\n",
      " |    |    |-- clrcoeff: float (nullable = true)\n",
      " |    |    |-- clrcounc: float (nullable = true)\n",
      " |    |    |-- rbversion: string (nullable = true)\n",
      " |-- cutoutScience: struct (nullable = true)\n",
      " |    |-- fileName: string (nullable = true)\n",
      " |    |-- stampData: binary (nullable = true)\n",
      " |-- cutoutTemplate: struct (nullable = true)\n",
      " |    |-- fileName: string (nullable = true)\n",
      " |    |-- stampData: binary (nullable = true)\n",
      " |-- cutoutDifference: struct (nullable = true)\n",
      " |    |-- fileName: string (nullable = true)\n",
      " |    |-- stampData: binary (nullable = true)\n",
      " |-- timestamp: timestamp (nullable = true)\n",
      " |-- cdsxmatch: string (nullable = true)\n",
      " |-- rfscore: double (nullable = true)\n",
      " |-- snn_snia_vs_nonia: double (nullable = true)\n",
      " |-- snn_sn_vs_all: double (nullable = true)\n",
      " |-- mulens: struct (nullable = true)\n",
      " |    |-- class_1: string (nullable = true)\n",
      " |    |-- ml_score_1: double (nullable = true)\n",
      " |    |-- class_2: string (nullable = true)\n",
      " |    |-- ml_score_2: double (nullable = true)\n",
      " |-- roid: integer (nullable = true)\n",
      " |-- nalerthist: integer (nullable = true)\n",
      " |-- knscore: double (nullable = true)\n",
      " |-- fink_broker_version: string (nullable = true)\n",
      " |-- fink_science_version: string (nullable = true)\n",
      " |-- tracklet: string (nullable = true)\n",
      "\n"
     ]
    }
   ],
   "source": [
    "df.printSchema()"
   ]
  },
  {
   "cell_type": "markdown",
   "metadata": {},
   "source": [
    "## Calling the science module\n",
    "\n",
    "First, you need to concatenate historical + current measurements for the quantities of interest. Here, we only need `magpsf`. Hence we create a new column to the DataFrame called `cmagpsf` (for _concatenated_ `magpsf`):"
   ]
  },
  {
   "cell_type": "code",
   "execution_count": 5,
   "metadata": {},
   "outputs": [
    {
     "data": {
      "text/plain": [
       "['cmagpsf', 'cjd', 'csigmapsf', 'cfid']"
      ]
     },
     "execution_count": 5,
     "metadata": {},
     "output_type": "execute_result"
    }
   ],
   "source": [
    "# Required alert columns\n",
    "what = ['magpsf', 'jd', 'sigmapsf', 'fid']\n",
    "\n",
    "# Use for creating temp name\n",
    "prefix = 'c'\n",
    "what_prefix = [prefix + i for i in what]\n",
    "\n",
    "# Concatenate historical + current measurements\n",
    "for colname in what:\n",
    "    df = concat_col(df, colname, prefix=prefix)\n",
    "\n",
    "what_prefix"
   ]
  },
  {
   "cell_type": "code",
   "execution_count": 15,
   "metadata": {},
   "outputs": [],
   "source": [
    "import light_curve as lc\n",
    "import numpy as np\n",
    "import pandas as pd\n",
    "from fink_science.ztf.utilities import fix_nans"
   ]
  },
  {
   "cell_type": "code",
   "execution_count": 9,
   "metadata": {},
   "outputs": [],
   "source": [
    "def extract_row(frame, index=0, dtype='float64'):\n",
    "    return np.array(frame[index][0], dtype=dtype)\n",
    "\n",
    "\n",
    "def npsave(*args, **kwargs):\n",
    "    args = [*args]\n",
    "    args[0] = f\"samples/{args[0]}\"\n",
    "    if not args[0].endswith('.npy'):\n",
    "        args[0] += '.npy'\n",
    "    return np.save(*args, **kwargs)\n",
    "\n",
    "\n",
    "def npload(*args, **kwargs):\n",
    "    args = [*args]\n",
    "    args[0] = f\"samples/{args[0]}\"\n",
    "    if not args[0].endswith('.npy'):\n",
    "        args[0] += '.npy'\n",
    "    args[0] = open(args[0], 'rb')\n",
    "    return np.load(*args, **kwargs)\n"
   ]
  },
  {
   "cell_type": "code",
   "execution_count": 10,
   "metadata": {},
   "outputs": [],
   "source": [
    "import os\n",
    "\n",
    "\n",
    "def create_sample(n=0):\n",
    "    cmagpsf = extract_row(df.select('cmagpsf').take(n+1), n)\n",
    "    cjd = extract_row(df.select('cjd').take(n+1), n)\n",
    "    csigmapsf = extract_row(df.select('csigmapsf').take(n+1), n)\n",
    "\n",
    "    if not os.path.exists(f'samples/{n}'):\n",
    "        os.mkdir(f'samples/{n}')\n",
    "\n",
    "    npsave(f\"{n}/cmagpsf\", cmagpsf)\n",
    "    npsave(f\"{n}/cjd\", cjd)\n",
    "    npsave(f\"{n}/csigmapsf\", csigmapsf)\n",
    "\n",
    "    return cmagpsf, cjd, csigmapsf\n",
    "\n",
    "\n",
    "def load_sample(n=0):\n",
    "    cmagpsf = npload(f\"{n}/cmagpsf\")\n",
    "    cjd = npload(f\"{n}/cjd\")\n",
    "    csigmapsf = npload(f\"{n}/csigmapsf\")\n",
    "\n",
    "    return cmagpsf, cjd, csigmapsf"
   ]
  },
  {
   "cell_type": "code",
   "execution_count": 11,
   "metadata": {},
   "outputs": [
    {
     "name": "stderr",
     "output_type": "stream",
     "text": [
      "                                                                                \r"
     ]
    },
    {
     "name": "stdout",
     "output_type": "stream",
     "text": [
      "['test.npy', '0', '1', '4', '3', '2', '5']\n"
     ]
    }
   ],
   "source": [
    "create_sample(0)\n",
    "create_sample(1)\n",
    "create_sample(2)\n",
    "create_sample(3)\n",
    "create_sample(4)\n",
    "create_sample(5)\n",
    "\n",
    "print(os.listdir(\"samples\"))"
   ]
  },
  {
   "cell_type": "code",
   "execution_count": 12,
   "metadata": {},
   "outputs": [],
   "source": [
    "def extract(magpsf, jd, sigmapsf):\n",
    "    fix_nans(cmagpsf)\n",
    "    fix_nans(csigmapsf)\n",
    "\n",
    "    extractor = lc.Extractor(\n",
    "        lc.Amplitude(),\n",
    "        lc.BeyondNStd(nstd=1),\n",
    "        lc.LinearFit(),\n",
    "        lc.Mean(),\n",
    "        lc.Median(),\n",
    "        lc.StandardDeviation(),\n",
    "        lc.Cusum(),\n",
    "        lc.ExcessVariance(),\n",
    "        lc.MeanVariance(),\n",
    "        lc.Kurtosis(),\n",
    "        lc.MaximumSlope(),\n",
    "        lc.Skew(),\n",
    "        lc.WeightedMean(),\n",
    "        lc.Eta(),\n",
    "        lc.AndersonDarlingNormal(),\n",
    "        lc.ReducedChi2(),\n",
    "        lc.InterPercentileRange(quantile=0.1),\n",
    "        #lc.MagnitudePercentageRatio(),\n",
    "        lc.MedianBufferRangePercentage(quantile=0.1),\n",
    "        lc.PercentDifferenceMagnitudePercentile(quantile=0.1),\n",
    "        lc.MedianAbsoluteDeviation(),\n",
    "        lc.PercentAmplitude(),\n",
    "        lc.EtaE(),\n",
    "        lc.LinearTrend(),\n",
    "        lc.StetsonK(),\n",
    "        lc.WeightedMean(),\n",
    "        #lc.Bins(),\n",
    "        #lc.OtsuSplit(),\n",
    "    )\n",
    "\n",
    "    result = extractor(cjd, cmagpsf, csigmapsf)\n",
    "    print('\\n'.join(\"{} = {:.2f}\".format(name, value) for name, value in zip(extractor.names, result)))  # DEBUG\n",
    "    return result"
   ]
  },
  {
   "cell_type": "code",
   "execution_count": 16,
   "metadata": {},
   "outputs": [
    {
     "name": "stdout",
     "output_type": "stream",
     "text": [
      "<class 'numpy.ndarray'> 34 nan nan\n",
      "<class 'numpy.ndarray'> 34 2459526.124098582 7.321780152225849\n",
      "<class 'numpy.ndarray'> 34 nan nan\n",
      "\n",
      "--------------\n",
      "\n",
      "amplitude = 1.52\n",
      "beyond_1_std = 0.47\n",
      "linear_fit_slope = -0.07\n",
      "linear_fit_slope_sigma = 0.00\n",
      "linear_fit_reduced_chi2 = 98.81\n",
      "mean = 18.47\n",
      "median = 18.22\n",
      "standard_deviation = 0.97\n",
      "cusum = 0.32\n",
      "excess_variance = 0.00\n",
      "mean_variance = 0.05\n",
      "kurtosis = -1.26\n",
      "maximum_slope = 123.08\n",
      "skew = -0.17\n",
      "weighted_mean = 17.55\n",
      "eta = 1.32\n",
      "anderson_darling_normal = 1.25\n",
      "chi2 = 112.38\n",
      "inter_percentile_range_10 = 2.52\n",
      "median_buffer_range_percentage_10 = 0.00\n",
      "percent_difference_magnitude_percentile_10 = 0.14\n",
      "median_absolute_deviation = 0.85\n",
      "percent_amplitude = 1.56\n",
      "eta_e = 591.79\n",
      "linear_trend = -0.07\n",
      "linear_trend_sigma = 0.02\n",
      "linear_trend_noise = 0.86\n",
      "stetson_K = 0.84\n",
      "weighted_mean = 17.55\n"
     ]
    }
   ],
   "source": [
    "cmagpsf, cjd, csigmapsf = load_sample(1)\n",
    "\n",
    "describe = lambda v: print(type(v), len(v), np.mean(v), np.std(v))\n",
    "\n",
    "assert cmagpsf.shape == cjd.shape == csigmapsf.shape, 'Mismatched shapes'\n",
    "\n",
    "describe(cmagpsf)\n",
    "describe(cjd)\n",
    "describe(csigmapsf)\n",
    "\n",
    "# separator for result\n",
    "print(\"\\n--------------\\n\")\n",
    "\n",
    "res = extract(cmagpsf, cjd, csigmapsf)"
   ]
  },
  {
   "cell_type": "code",
   "execution_count": 31,
   "metadata": {},
   "outputs": [
    {
     "name": "stdout",
     "output_type": "stream",
     "text": [
      "The autoreload extension is already loaded. To reload it, use:\n",
      "  %reload_ext autoreload\n"
     ]
    }
   ],
   "source": [
    "%load_ext autoreload"
   ]
  },
  {
   "cell_type": "code",
   "execution_count": 56,
   "metadata": {},
   "outputs": [
    {
     "name": "stdout",
     "output_type": "stream",
     "text": [
      "['amplitude', 'beyond_1_std', 'linear_fit_slope', 'linear_fit_slope_sigma', 'linear_fit_reduced_chi2', 'mean', 'median', 'standard_deviation', 'cusum', 'excess_variance', 'mean_variance', 'kurtosis', 'maximum_slope', 'skew', 'weighted_mean', 'eta', 'anderson_darling_normal', 'chi2', 'inter_percentile_range_10', 'median_buffer_range_percentage_10', 'percent_difference_magnitude_percentile_10', 'median_absolute_deviation', 'percent_amplitude', 'eta_e', 'linear_trend', 'linear_trend_sigma', 'linear_trend_noise', 'stetson_K', 'weighted_mean']\n"
     ]
    },
    {
     "name": "stderr",
     "output_type": "stream",
     "text": [
      "[Stage 50:>                                                         (0 + 1) / 1]"
     ]
    },
    {
     "name": "stdout",
     "output_type": "stream",
     "text": [
      "+------------+--------------------+-------------------+--------------------+----------------------+-----------------------+------------------+------------------+--------------------+-------------------+--------------------+--------------------+-------------------+------------------+--------------------+------------------+-------------------+-----------------------+--------------------+-------------------------+---------------------------------+------------------------------------------+-------------------------+-------------------+------------------+--------------------+--------------------+-------------------+------------------+------------------+\n",
      "|    objectId|           amplitude|       beyond_1_std|    linear_fit_slope|linear_fit_slope_sigma|linear_fit_reduced_chi2|              mean|            median|  standard_deviation|              cusum|     excess_variance|       mean_variance|           kurtosis|     maximum_slope|                skew|     weighted_mean|                eta|anderson_darling_normal|                chi2|inter_percentile_range_10|median_buffer_range_percentage_10|percent_difference_magnitude_percentile_10|median_absolute_deviation|  percent_amplitude|             eta_e|        linear_trend|  linear_trend_sigma| linear_trend_noise|         stetson_K|     weighted_mean|\n",
      "+------------+--------------------+-------------------+--------------------+----------------------+-----------------------+------------------+------------------+--------------------+-------------------+--------------------+--------------------+-------------------+------------------+--------------------+------------------+-------------------+-----------------------+--------------------+-------------------------+---------------------------------+------------------------------------------+-------------------------+-------------------+------------------+--------------------+--------------------+-------------------+------------------+------------------+\n",
      "|ZTF18abjrdau| 0.25370025634765625|              0.125|0.001300781733366...|     78517.68654861563|   4.260047681368065...|16.427674770355225|16.350900650024414|  0.1554441364818072|0.23789515583558368|-2.24156398444705...|0.009462333449790224| 1.4075665578253913| 9.114067349594055|  1.4161580793086692| 16.42767470548746| 1.8314153919211384|     1.3598093293705718| 3.9943416203657E-15|       0.4333704936907452|                             0.25|                      0.026504380582246283|      0.06420040130615234|0.44120025634765625| 1855.229596107215|0.001300755162614...|0.005124776018002168|0.16053103782895697|0.8014245725580027| 16.42767470548746|\n",
      "|ZTF18abmmrzp|  1.5187997817993164|0.47058823529411764|-0.06564726862340263|     57609.65601066058|   1.211450033217537...|18.473377115586224| 18.21685028076172|  0.9739918218660292| 0.3189711935622178|-1.77259813330034...| 0.05272408048468084|-1.2600771965012378|123.07502550005222|-0.17315769024885852| 18.47337997731298| 1.3228640431504024|      1.248046000598882|1.568225003606626...|       2.5225104029568683|                              0.0|                       0.13847127050392558|       0.8528995513916016|  1.564849853515625| 591.7916643605133|-0.06564700034173822|0.020051562825013122| 0.8560603260446411|0.9005207358732016| 18.47337997731298|\n",
      "|ZTF19abjfoad|  0.1990499496459961|               0.25|-0.01088942074985...|     78958.88034640616|   1.893464938962072...| 19.24437975883484| 19.29349994659424| 0.13550269298792045|0.36696541801772575|-1.63341057277437...|0.007041156674624079|0.40556653406370113| 7.637442130732945| -1.3473417625623814|19.244380295822786| 0.7426047872434243|     1.9785527270729597|3.035225428749640...|       0.3636184677889105|                             0.25|                      0.018846682499050558|     0.033150672912597656| 0.3061990737915039| 992.0734956773825|-0.01088944278991179|0.003435823378947...|0.10702401115114386|0.7983191322376799|19.244380295822786|\n",
      "|ZTF18acmwkqr|  0.6964998245239258|0.29411764705882354|0.001938840598858...|     81073.51865176455|   5.338148343654560...|17.457136041977826| 17.16819953918457|  0.5504112480041247|0.43676638800668804|-1.98498502103088...|0.031529298201067646|-1.0894748070032265| 8.133202686339365|  0.9598007382635424|17.457135956627898| 0.6470761988076233|     2.8331373539484592|5.008088496520618...|       1.1924991607666016|              0.29411764705882354|                       0.06945976822117254|       0.1262989044189453| 1.2667007446289062|41.667771563697826|0.001938596886308...| 0.01873155781821348| 0.5682594425249626| 0.900416741689325|17.457135956627898|\n",
      "|ZTF21acqeepb|                null|               null|                null|                  null|                   null|              null|              null|                null|               null|                null|                null|               null|              null|                null|              null|               null|                   null|                null|                     null|                             null|                                      null|                     null|               null|              null|                null|                null|               null|              null|              null|\n",
      "|ZTF17aaanpdf|  0.9615497589111328|                0.2|-0.02390470138660...|      67526.8447818883|   2.803783653252319...|18.728456687927245|18.901500701904297|  0.4478635569830376|0.24441733743853325|-1.72464341881804...|0.023913532462700986| 2.5134751089105016|27.323708636371173| -1.3150396376303535|18.728457977311304| 1.3765220150691213|     1.6237482214103571|3.315784935834721...|       1.0895490646362305|                             0.45|                         0.057643521634579|      0.25495052337646484| 1.3120002746582031| 988.8992045859043|-0.02390475342605...|0.011307057186529279|0.41183645348524006|0.7045918626978428|18.728457977311304|\n",
      "|ZTF18abadigg|  0.7940001487731934| 0.5882352941176471|-0.06582595897766853|     82329.53648305728|   2.620266880160938...|16.451638053445254|16.342100143432617|  0.6247361146985276|0.43068482683060905|-2.23504115847755...|0.037974097939001104|-1.4624828341082083| 7.356956624508511|-0.24479142450418478| 16.45164086352572|0.13976314841032125|     0.9370128945705305|6.451925949940729...|       1.5880002975463867|              0.17647058823529413|                       0.09717235138744115|       0.7898998260498047|  0.798100471496582| 71.99899797320025|-0.06582593905967425|0.013326893817589665|0.39813016272076207| 0.887879935093894| 16.45164086352572|\n",
      "|ZTF19aawfxge|  0.2012004852294922| 0.2777777777777778|-8.22897978336445...|    64626.192012182735|   1.584906501254389...|18.978188302781845| 18.96470069885254|  0.0952957370341822|0.14470279591912968|-1.67955229077470...| 0.00502132951332418| 1.6061836526705262|12.667561351665228|  0.8961259333162903|18.978188356625964| 2.3386353025643833|     0.5225963876798231|1.501214021539806...|      0.23281132762235757|               0.1111111111111111|                       0.01227603489869175|      0.04170036315917969| 0.2616996765136719| 4912.536362253675|-8.22901120795243...|0.002572830452708977| 0.0979160725822996|0.7506878056245455|18.978188356625964|\n",
      "|ZTF18aaxypzn|0.059149742126464844|0.38461538461538464|-0.00482270934147...|     78698.65029536828|   2.326207299079539...|17.188515002910908| 17.23859977722168|0.056418158796939025| 0.4780149725542031|-2.04751329055740...|0.003282317220969...|-2.3320337675786242| 5.931941153441482| -0.1889590820506896|17.188515297553007|0.27213493765500124|     2.3134932720333645|5.261794726886044...|      0.10998039171226992|               0.5384615384615384|                      0.006379891240215063|                      0.0|0.11829948425292969| 5753.593558201388| -0.0048227234929865|0.001200306527151...|0.03751248242588002|0.9950673780513887|17.188515297553007|\n",
      "|ZTF18abtrvkm|  0.5411291122436523|0.43243243243243246|0.006614690480916415|    53224.328007435324|   2.933878405820061...|18.566836279791755|18.805599212646484|  0.4185016882701948|0.18849808721790906|-1.75479880564700...|0.022540279989741403|-1.7735409126310844|1801.8073192728814| -0.4643090950747702|18.566835969358433|  2.206728698501422|      4.665155064708714|2.895285625047032...|       0.9196987152099609|              0.21621621621621623|                       0.04890557885501874|       0.1466999053955078| 0.8549575805664062| 1048817.850327064|0.006614650508306245|0.009116565257541866| 0.4212817067921702|0.9580231079850805|18.566835969358433|\n",
      "|ZTF18acmwkqr|  0.6333503723144531| 0.3333333333333333|-0.05631403577492...|     74148.56081551328|   2.019042516030493...|17.945273611280655|18.234399795532227|  0.5658649435754868|0.45003783802114705|-1.87846595574924...| 0.03153281225089686|-1.6340231747209102| 2.971798604337813| -0.6167962660362638|17.945276410394296|0.28136277264959436|      2.384344186738363|5.293236827660844...|       1.2667007446289062|               0.2222222222222222|                       0.06946764131711491|         0.20050048828125| 1.0662002563476562| 4.509453239856634|-0.05631404167813828|0.010536005433862588|0.34948228575650647|0.9261696341328445|17.945276410394296|\n",
      "|ZTF18abjcxoj|                null|               null|                null|                  null|                   null|              null|              null|                null|               null|                null|                null|               null|              null|                null|              null|               null|                   null|                null|                     null|                             null|                                      null|                     null|               null|              null|                null|                null|               null|              null|              null|\n",
      "|ZTF18aaxyyjv|  0.7842001914978027|0.21052631578947367|0.019174014508481618|     64576.36903239687|   2.158875543530183...|16.161148773996455| 16.17620086669922|  0.3911134465806949|0.28208406947546444|-2.31610676758788...| 0.02420084438613687| 0.7366114802508208| 24.67460955684281|-0.27862814066088387|16.161147583594566|  1.562368154497376|     0.6617981890188805|2.528724006648173...|       0.9072647108978344|               0.3157894736842105|                         0.056086390022861|      0.28130054473876953| 0.9709005355834961|1204.8514253490275|0.019174006000761704|  0.0094882970586842|0.36138160057688506|0.7740173557474036|16.161147583594566|\n",
      "|ZTF18abcvdid|  0.8566055297851562| 0.2777777777777778|-0.03655215716422755|     76482.01813555043|   2.164553895332751...|17.960910479227703|17.910900115966797| 0.45223000775703937|0.27851832753262334|-1.87519434124668...|0.025178568106558743| 3.5230621275276377| 37.84367980030489|   1.744310932826114| 17.96091218689408| 0.9074055447101372|     3.5917911638704707|3.380791408225196...|        1.299378565664938|               0.7222222222222222|                       0.07254680430642332|                      0.0| 1.1835994720458984|1307.5058086580912|-0.03655204236791...|0.011252320732325292|0.36185481999053365|0.5731881891563729| 17.96091218689408|\n",
      "|ZTF17aaabqqd|  0.8932504653930664| 0.5294117647058824|  0.0314808283235809|     81823.54503839512|   5.602360679881498...| 19.45656753988827|19.500999450683594|  0.6112996958861924| 0.3900238322196598|-1.59797787882450...|0.031418681359543794|-1.2634526367121053| 7.659331317496317|  0.2271975835521986| 19.45656617931355| 0.9562283530683469|      0.930571161276286|6.177370779675646...|       1.4491004943847656|              0.23529411764705882|                       0.07430903723931792|       0.6828994750976562| 1.0202999114990234|30.417940710975227|0.031480840605164956|0.019367092133727618| 0.5821540749678745|0.8393122933583591| 19.45656617931355|\n",
      "|ZTF18aazuljr|   0.845250129699707|               0.25|0.018821057002414796|     75526.49169161219|   6.563515670231654...|17.594602902730305|17.732199668884277|  0.6285687211756352|0.36235535524693396|-1.95408458665773...|0.035725087099186245|-0.7127386347714109|0.8456906077086285| -0.8984307482052858|17.594601550209987| 1.2918040097132082|      1.034085577852108|6.531375011458295...|        1.583890335450178|                             0.25|                       0.08932283444955352|      0.35665035247802734| 1.2163991928100586| 2.339727652929903|0.018820798435167138| 0.01934939397200124| 0.6301141268038237|0.8293272739315347|17.594601550209987|\n",
      "|ZTF18abnxbyb|  0.8250503540039062| 0.5294117647058824|-0.02799400264966...|       77889.975191885|   4.29095067352647E-14| 18.09042537913603| 17.97760009765625|  0.5405416628053886| 0.3415962330757555|-1.84844069245290...|0.029879986317447448| -1.115914841826147|18.711975235225445| 0.18779451978035483| 18.09042671430127| 1.7346966226132214|       0.64243123275256|4.830088442634507...|       1.3946197464756551|              0.17647058823529413|                       0.07757541267465798|      0.45960044860839844| 0.8798007965087891| 800.9136311768714|-0.02799414492861759|0.016134593815433942| 0.5094809796707005|0.8391746313386211| 18.09042671430127|\n",
      "|ZTF18acgdrsy|  0.7581005096435547|0.26666666666666666|-0.08462616367744027|     106619.5718373146|   3.633850625366141...| 20.26905034383138|20.671100616455078|  0.6901708870722374| 0.4271940067501756|-1.47243567242685...|  0.0340504796901983|-0.7319997486461944|40.012166486467436|  -1.176843182903005|20.269052785133347|0.34489844512646595|      3.831062007076116|7.87423691877939E-14|       1.5162010192871094|               0.7333333333333333|                       0.07334882875467931|                      0.0| 1.5162010192871094| 647.7133984641314|-0.08462628253970716|0.020324524036564956|0.46885174417588266|0.8843747464738209|20.269052785133347|\n",
      "|ZTF18aaqfhlj|                null|               null|                null|                  null|                   null|              null|              null|                null|               null|                null|                null|               null|              null|                null|              null|               null|                   null|                null|                     null|                             null|                                      null|                     null|               null|              null|                null|                null|               null|              null|              null|\n",
      "|ZTF18aazuljr|   1.069681167602539| 0.3333333333333333|-0.04935896465359...|     75711.63405054217|   7.25656194807718E-14|17.432169914245605|17.739099502563477|  0.7954853151168425|0.42057244280502293|-1.99067462644506...| 0.04563317814305896|-1.3362785464577471|35.702104387795416| -0.6694273506423815| 17.43217344397533|  0.882805767811076|     1.0501122487350116|1.046067024447558...|       1.8251588607377016|              0.16666666666666666|                       0.10288903675600602|      0.46720123291015625| 1.6721611022949219|1359.0340028532262|-0.04935914918334932|  0.0203952357413193| 0.6625482446759537|0.9003486266775302| 17.43217344397533|\n",
      "+------------+--------------------+-------------------+--------------------+----------------------+-----------------------+------------------+------------------+--------------------+-------------------+--------------------+--------------------+-------------------+------------------+--------------------+------------------+-------------------+-----------------------+--------------------+-------------------------+---------------------------------+------------------------------------------+-------------------------+-------------------+------------------+--------------------+--------------------+-------------------+------------------+------------------+\n",
      "only showing top 20 rows\n",
      "\n"
     ]
    },
    {
     "name": "stderr",
     "output_type": "stream",
     "text": [
      "                                                                                \r"
     ]
    }
   ],
   "source": [
    "%autoreload 2\n",
    "%aimport processor\n",
    "importlib.reload(processor)\n",
    "\n",
    "names = processor.names\n",
    "print(names)\n",
    "\n",
    "ztf_base_col = 'ztf_TEST'\n",
    "df_change = df.withColumn(ztf_base_col, processor.extract_features_ztf(*what_prefix))\n",
    "for index, name in enumerate(names):\n",
    "    df_change = df_change.withColumn(name, df_change[ztf_base_col][index])\n",
    "df_change = df_change.drop(ztf_base_col)\n",
    "df_change.select(['objectId', *names]).show()"
   ]
  },
  {
   "cell_type": "markdown",
   "metadata": {},
   "source": [
    "We can also quickly check some statistics on this new column:"
   ]
  },
  {
   "cell_type": "code",
   "execution_count": 6,
   "metadata": {},
   "outputs": [
    {
     "name": "stdout",
     "output_type": "stream",
     "text": [
      "+-------+-------------------+\n",
      "|summary|           deltamag|\n",
      "+-------+-------------------+\n",
      "|  count|                176|\n",
      "|   mean|0.09352213686162775|\n",
      "| stddev| 0.9564824046920042|\n",
      "|    min| -2.828317642211914|\n",
      "|    max| 3.4397459030151367|\n",
      "+-------+-------------------+\n",
      "\n"
     ]
    }
   ],
   "source": [
    "df_change.select('deltamag').describe().show()"
   ]
  }
 ],
 "metadata": {
  "kernelspec": {
   "display_name": "Python 3 (ipykernel)",
   "language": "python",
   "name": "python3"
  },
  "language_info": {
   "codemirror_mode": {
    "name": "ipython",
    "version": 3
   },
   "file_extension": ".py",
   "mimetype": "text/x-python",
   "name": "python",
   "nbconvert_exporter": "python",
   "pygments_lexer": "ipython3",
   "version": "3.7.3"
  }
 },
 "nbformat": 4,
 "nbformat_minor": 2
}
